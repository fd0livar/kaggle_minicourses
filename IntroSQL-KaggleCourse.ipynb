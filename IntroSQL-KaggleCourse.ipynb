{
 "cells": [
  {
   "cell_type": "markdown",
   "metadata": {},
   "source": [
    "# Intro to SQL\n",
    "\n",
    "## Bigquery\n",
    "\n",
    "Build SQL skills using BigQuery (a web service to use SQL on huge datasets).  \n",
    "First, basics about BigQuery datasets:"
   ]
  },
  {
   "cell_type": "code",
   "execution_count": 1,
   "metadata": {},
   "outputs": [],
   "source": [
    "from google.cloud import bigquery"
   ]
  },
  {
   "cell_type": "code",
   "execution_count": 4,
   "metadata": {},
   "outputs": [],
   "source": [
    "# This cell is to set the enviromental variable for the google credential\n",
    "import os\n",
    "\n",
    "path_to_credential = \"C:\\\\Users\\\\fdoli\\\\Downloads\\\\UD01-9cd33c07ad1d.json\"\n",
    "\n",
    "os.environ['GOOGLE_APPLICATION_CREDENTIALS'] = path_to_credential"
   ]
  },
  {
   "cell_type": "code",
   "execution_count": 5,
   "metadata": {},
   "outputs": [],
   "source": [
    "# Create a \"Client\" object\n",
    "client = bigquery.Client()"
   ]
  },
  {
   "cell_type": "markdown",
   "metadata": {},
   "source": [
    "We'll use a dataset of posts on *Hacker News*.  \n",
    "\n",
    "In BigQuery, each dataset is contained in a corresponding project. In this case, \n",
    "the `hacker_news` dataset is contained in the `bigquery-public-data` project.  \n",
    "To access the dataset:\n",
    "- We begin constructing a reference with the `dataset()` method. \n",
    "- We use the `get_dataset()` method, along with the reference we just constructed, to fetch the dataset.  "
   ]
  },
  {
   "cell_type": "code",
   "execution_count": 7,
   "metadata": {},
   "outputs": [],
   "source": [
    "# Construct a reference to the dataset\n",
    "dataset_ref = client.dataset('hacker_news', project='bigquery-public-data')\n",
    "\n",
    "# API request - fetch the dataset\n",
    "dataset = client.get_dataset(dataset_ref)"
   ]
  },
  {
   "cell_type": "code",
   "execution_count": 8,
   "metadata": {},
   "outputs": [
    {
     "name": "stdout",
     "output_type": "stream",
     "text": [
      "comments\n",
      "full\n",
      "full_201510\n",
      "stories\n"
     ]
    }
   ],
   "source": [
    "# List all tables in the \"hacker_news\" dataset\n",
    "tables = list(client.list_tables(dataset))\n",
    "\n",
    "# Print names of all tables in the dataset (there are 4!)\n",
    "for table in tables:\n",
    "    print(table.table_id)"
   ]
  },
  {
   "cell_type": "markdown",
   "metadata": {},
   "source": [
    "Similarly we can fetch a table.  \n",
    "We fetch the `full` table in the `hacker_news` dataset"
   ]
  },
  {
   "cell_type": "code",
   "execution_count": 19,
   "metadata": {},
   "outputs": [],
   "source": [
    "# Construct a reference to the \"full\" table\n",
    "table_ref = dataset_ref.table('full')\n",
    "\n",
    "# API request - fetch the table\n",
    "table = client.get_table(table_ref)"
   ]
  },
  {
   "cell_type": "markdown",
   "metadata": {},
   "source": [
    "The flow diagram of what we have done until now is:\n",
    "\n",
    "`client \\ bigquery-publi-data \\ hacker_news \\ (comments, full, full_201510, stories)`"
   ]
  },
  {
   "cell_type": "markdown",
   "metadata": {},
   "source": [
    "### Table schema\n",
    "\n",
    "The structure of the table is called its schema. It's important to understand it:\n",
    "\n",
    "Let's investigate the `full` table we fetched already:"
   ]
  },
  {
   "cell_type": "code",
   "execution_count": 20,
   "metadata": {},
   "outputs": [
    {
     "data": {
      "text/plain": [
       "[SchemaField('title', 'STRING', 'NULLABLE', 'Story title', ()),\n",
       " SchemaField('url', 'STRING', 'NULLABLE', 'Story url', ()),\n",
       " SchemaField('text', 'STRING', 'NULLABLE', 'Story or comment text', ()),\n",
       " SchemaField('dead', 'BOOLEAN', 'NULLABLE', 'Is dead?', ()),\n",
       " SchemaField('by', 'STRING', 'NULLABLE', \"The username of the item's author.\", ()),\n",
       " SchemaField('score', 'INTEGER', 'NULLABLE', 'Story score', ()),\n",
       " SchemaField('time', 'INTEGER', 'NULLABLE', 'Unix time', ()),\n",
       " SchemaField('timestamp', 'TIMESTAMP', 'NULLABLE', 'Timestamp for the unix time', ()),\n",
       " SchemaField('type', 'STRING', 'NULLABLE', 'Type of details (comment, comment_ranking, poll, story, job, pollopt)', ()),\n",
       " SchemaField('id', 'INTEGER', 'NULLABLE', \"The item's unique id.\", ()),\n",
       " SchemaField('parent', 'INTEGER', 'NULLABLE', 'Parent comment ID', ()),\n",
       " SchemaField('descendants', 'INTEGER', 'NULLABLE', 'Number of story or poll descendants', ()),\n",
       " SchemaField('ranking', 'INTEGER', 'NULLABLE', 'Comment ranking', ()),\n",
       " SchemaField('deleted', 'BOOLEAN', 'NULLABLE', 'Is deleted?', ())]"
      ]
     },
     "execution_count": 20,
     "metadata": {},
     "output_type": "execute_result"
    }
   ],
   "source": [
    "# Print info on all the collumns in the `full` table in the `hacker_news` dataset\n",
    "table.schema"
   ]
  },
  {
   "cell_type": "markdown",
   "metadata": {},
   "source": [
    "The information in the columns is organized as:\n",
    "- The **name** of the column\n",
    "- The **field type** in the column\n",
    "- The **mode** of the column (`NULLABLE` means that a column allows NULL values, and is the default)\n",
    "- A **description** of the data in that column\n",
    "\n",
    "To check the rows information we use the `list_rows()` method. It shows the first 5 rows. The returned object (`RowIterator`) can be converted to a pandas DataFrame with the `to_dataframe()` method."
   ]
  },
  {
   "cell_type": "code",
   "execution_count": 23,
   "metadata": {},
   "outputs": [
    {
     "data": {
      "text/html": [
       "<div>\n",
       "<style scoped>\n",
       "    .dataframe tbody tr th:only-of-type {\n",
       "        vertical-align: middle;\n",
       "    }\n",
       "\n",
       "    .dataframe tbody tr th {\n",
       "        vertical-align: top;\n",
       "    }\n",
       "\n",
       "    .dataframe thead th {\n",
       "        text-align: right;\n",
       "    }\n",
       "</style>\n",
       "<table border=\"1\" class=\"dataframe\">\n",
       "  <thead>\n",
       "    <tr style=\"text-align: right;\">\n",
       "      <th></th>\n",
       "      <th>title</th>\n",
       "      <th>url</th>\n",
       "      <th>text</th>\n",
       "      <th>dead</th>\n",
       "      <th>by</th>\n",
       "      <th>score</th>\n",
       "      <th>time</th>\n",
       "      <th>timestamp</th>\n",
       "      <th>type</th>\n",
       "      <th>id</th>\n",
       "      <th>parent</th>\n",
       "      <th>descendants</th>\n",
       "      <th>ranking</th>\n",
       "      <th>deleted</th>\n",
       "    </tr>\n",
       "  </thead>\n",
       "  <tbody>\n",
       "    <tr>\n",
       "      <th>0</th>\n",
       "      <td>None</td>\n",
       "      <td>None</td>\n",
       "      <td>Right. To avoid confusion, I updated the post ...</td>\n",
       "      <td>None</td>\n",
       "      <td>BrendanEich</td>\n",
       "      <td>NaN</td>\n",
       "      <td>1334519257</td>\n",
       "      <td>2012-04-15 19:47:37+00:00</td>\n",
       "      <td>comment</td>\n",
       "      <td>3844505</td>\n",
       "      <td>3844394</td>\n",
       "      <td>NaN</td>\n",
       "      <td>NaN</td>\n",
       "      <td>None</td>\n",
       "    </tr>\n",
       "    <tr>\n",
       "      <th>1</th>\n",
       "      <td>None</td>\n",
       "      <td>None</td>\n",
       "      <td>It is possible to use only one or the other.</td>\n",
       "      <td>None</td>\n",
       "      <td>arkitectual</td>\n",
       "      <td>NaN</td>\n",
       "      <td>1482988141</td>\n",
       "      <td>2016-12-29 05:09:01+00:00</td>\n",
       "      <td>comment</td>\n",
       "      <td>13275737</td>\n",
       "      <td>13275001</td>\n",
       "      <td>NaN</td>\n",
       "      <td>NaN</td>\n",
       "      <td>None</td>\n",
       "    </tr>\n",
       "    <tr>\n",
       "      <th>2</th>\n",
       "      <td>None</td>\n",
       "      <td>None</td>\n",
       "      <td>Educreations (&lt;a href=\"http://www.educreations...</td>\n",
       "      <td>None</td>\n",
       "      <td>streeter</td>\n",
       "      <td>NaN</td>\n",
       "      <td>1338572700</td>\n",
       "      <td>2012-06-01 17:45:00+00:00</td>\n",
       "      <td>comment</td>\n",
       "      <td>4054641</td>\n",
       "      <td>4053076</td>\n",
       "      <td>NaN</td>\n",
       "      <td>NaN</td>\n",
       "      <td>None</td>\n",
       "    </tr>\n",
       "    <tr>\n",
       "      <th>3</th>\n",
       "      <td>None</td>\n",
       "      <td>None</td>\n",
       "      <td>&lt;i&gt;Everyone&lt;/i&gt; thinks in terms of pixel count...</td>\n",
       "      <td>None</td>\n",
       "      <td>mcguire</td>\n",
       "      <td>NaN</td>\n",
       "      <td>1416590679</td>\n",
       "      <td>2014-11-21 17:24:39+00:00</td>\n",
       "      <td>comment</td>\n",
       "      <td>8642235</td>\n",
       "      <td>8641060</td>\n",
       "      <td>NaN</td>\n",
       "      <td>NaN</td>\n",
       "      <td>None</td>\n",
       "    </tr>\n",
       "    <tr>\n",
       "      <th>4</th>\n",
       "      <td>None</td>\n",
       "      <td>None</td>\n",
       "      <td>&amp;gt; Spamnesty is a way to waste spammers&amp;#x27...</td>\n",
       "      <td>None</td>\n",
       "      <td>defanor</td>\n",
       "      <td>NaN</td>\n",
       "      <td>1514737026</td>\n",
       "      <td>2017-12-31 16:17:06+00:00</td>\n",
       "      <td>comment</td>\n",
       "      <td>16041080</td>\n",
       "      <td>16036121</td>\n",
       "      <td>NaN</td>\n",
       "      <td>NaN</td>\n",
       "      <td>None</td>\n",
       "    </tr>\n",
       "  </tbody>\n",
       "</table>\n",
       "</div>"
      ],
      "text/plain": [
       "  title   url                                               text  dead  \\\n",
       "0  None  None  Right. To avoid confusion, I updated the post ...  None   \n",
       "1  None  None       It is possible to use only one or the other.  None   \n",
       "2  None  None  Educreations (<a href=\"http://www.educreations...  None   \n",
       "3  None  None  <i>Everyone</i> thinks in terms of pixel count...  None   \n",
       "4  None  None  &gt; Spamnesty is a way to waste spammers&#x27...  None   \n",
       "\n",
       "            by  score        time                 timestamp     type  \\\n",
       "0  BrendanEich    NaN  1334519257 2012-04-15 19:47:37+00:00  comment   \n",
       "1  arkitectual    NaN  1482988141 2016-12-29 05:09:01+00:00  comment   \n",
       "2     streeter    NaN  1338572700 2012-06-01 17:45:00+00:00  comment   \n",
       "3      mcguire    NaN  1416590679 2014-11-21 17:24:39+00:00  comment   \n",
       "4      defanor    NaN  1514737026 2017-12-31 16:17:06+00:00  comment   \n",
       "\n",
       "         id    parent  descendants  ranking deleted  \n",
       "0   3844505   3844394          NaN      NaN    None  \n",
       "1  13275737  13275001          NaN      NaN    None  \n",
       "2   4054641   4053076          NaN      NaN    None  \n",
       "3   8642235   8641060          NaN      NaN    None  \n",
       "4  16041080  16036121          NaN      NaN    None  "
      ]
     },
     "execution_count": 23,
     "metadata": {},
     "output_type": "execute_result"
    }
   ],
   "source": [
    "# Preview the first five lines of the \"full\" table\n",
    "client.list_rows(table, max_results=5).to_dataframe()"
   ]
  },
  {
   "cell_type": "code",
   "execution_count": 28,
   "metadata": {},
   "outputs": [
    {
     "data": {
      "text/html": [
       "<div>\n",
       "<style scoped>\n",
       "    .dataframe tbody tr th:only-of-type {\n",
       "        vertical-align: middle;\n",
       "    }\n",
       "\n",
       "    .dataframe tbody tr th {\n",
       "        vertical-align: top;\n",
       "    }\n",
       "\n",
       "    .dataframe thead th {\n",
       "        text-align: right;\n",
       "    }\n",
       "</style>\n",
       "<table border=\"1\" class=\"dataframe\">\n",
       "  <thead>\n",
       "    <tr style=\"text-align: right;\">\n",
       "      <th></th>\n",
       "      <th>title</th>\n",
       "    </tr>\n",
       "  </thead>\n",
       "  <tbody>\n",
       "    <tr>\n",
       "      <th>0</th>\n",
       "      <td>None</td>\n",
       "    </tr>\n",
       "    <tr>\n",
       "      <th>1</th>\n",
       "      <td>None</td>\n",
       "    </tr>\n",
       "    <tr>\n",
       "      <th>2</th>\n",
       "      <td>None</td>\n",
       "    </tr>\n",
       "    <tr>\n",
       "      <th>3</th>\n",
       "      <td>None</td>\n",
       "    </tr>\n",
       "    <tr>\n",
       "      <th>4</th>\n",
       "      <td>None</td>\n",
       "    </tr>\n",
       "  </tbody>\n",
       "</table>\n",
       "</div>"
      ],
      "text/plain": [
       "  title\n",
       "0  None\n",
       "1  None\n",
       "2  None\n",
       "3  None\n",
       "4  None"
      ]
     },
     "execution_count": 28,
     "metadata": {},
     "output_type": "execute_result"
    }
   ],
   "source": [
    "# Preview the first five entries in the first colum of the \"full\" table\n",
    "client.list_rows(table, selected_fields=table.schema[:1], max_results=5).to_dataframe()"
   ]
  },
  {
   "cell_type": "code",
   "execution_count": 31,
   "metadata": {},
   "outputs": [
    {
     "data": {
      "text/plain": [
       "4"
      ]
     },
     "execution_count": 31,
     "metadata": {},
     "output_type": "execute_result"
    }
   ],
   "source": [
    "len(tables)"
   ]
  },
  {
   "cell_type": "markdown",
   "metadata": {},
   "source": [
    "## Select, From & Where\n",
    "\n",
    "Let's write the first SQL query! The keywords **SELECT**, **FROM**, and **WHERE** will help us.\n",
    "\n",
    "### SELECT ... FROM  \n",
    "this basic SQL query selects a *single* column from a single table. We should:\n",
    "- specify the column we want after the word **SELECT**, and then\n",
    "- specify the table after the word **FROM**\n",
    "\n",
    "`query = \"\"\"\n",
    "        SELECT Name\n",
    "        FROM 'bigquery-public-data.pet_records.pets'\n",
    "        \"\"\"`  \n",
    "This will select the `Name` column from the `pets` table in the `pet_records` database in the `bigquery-public-data` project.\n",
    "\n",
    "### WHERE ...  \n",
    "This is to select specific rows from a column, to avoid returning large amounts of data from the large datasets.  \n",
    "\n",
    "`query = \"\"\" \n",
    "         SELECT Name\n",
    "         FROM 'bigquery-public-data.pet_records.pets'\n",
    "         WHERE Animal = 'Cat'\n",
    "         \"\"\"`  \n",
    "This query will return the entries from the `Name` column that are in rows where the `Animal` column has the text `Cat'.\n",
    "\n",
    "### Example: What are all the U.S. cities in the OpenAQ dataset?  \n",
    "Let's work with a real dataset. We'll use an OpenAQ dataset about air quality. "
   ]
  },
  {
   "cell_type": "code",
   "execution_count": 32,
   "metadata": {},
   "outputs": [
    {
     "name": "stdout",
     "output_type": "stream",
     "text": [
      "global_air_quality\n"
     ]
    }
   ],
   "source": [
    "from google.cloud import bigquery\n",
    "\n",
    "# Create a 'Client' object\n",
    "client = bigquery.Client()\n",
    "\n",
    "# Construct a reference to the 'openaq' dataset\n",
    "dataset_ref = client.dataset('openaq', project='bigquery-public-data')\n",
    "\n",
    "# API request - fetch the dataset\n",
    "dataset = client.get_dataset(dataset_ref)\n",
    "\n",
    "# List all the tables in the 'openaq' dataset\n",
    "tables = list(client.list_tables(dataset))\n",
    "\n",
    "# Print names of all tables in the dataset \n",
    "for table in tables:\n",
    "    print(table.table_id)"
   ]
  },
  {
   "cell_type": "markdown",
   "metadata": {},
   "source": [
    "Let's fetch the table and check its content"
   ]
  },
  {
   "cell_type": "code",
   "execution_count": 33,
   "metadata": {},
   "outputs": [
    {
     "data": {
      "text/html": [
       "<div>\n",
       "<style scoped>\n",
       "    .dataframe tbody tr th:only-of-type {\n",
       "        vertical-align: middle;\n",
       "    }\n",
       "\n",
       "    .dataframe tbody tr th {\n",
       "        vertical-align: top;\n",
       "    }\n",
       "\n",
       "    .dataframe thead th {\n",
       "        text-align: right;\n",
       "    }\n",
       "</style>\n",
       "<table border=\"1\" class=\"dataframe\">\n",
       "  <thead>\n",
       "    <tr style=\"text-align: right;\">\n",
       "      <th></th>\n",
       "      <th>location</th>\n",
       "      <th>city</th>\n",
       "      <th>country</th>\n",
       "      <th>pollutant</th>\n",
       "      <th>value</th>\n",
       "      <th>timestamp</th>\n",
       "      <th>unit</th>\n",
       "      <th>source_name</th>\n",
       "      <th>latitude</th>\n",
       "      <th>longitude</th>\n",
       "      <th>averaged_over_in_hours</th>\n",
       "    </tr>\n",
       "  </thead>\n",
       "  <tbody>\n",
       "    <tr>\n",
       "      <th>0</th>\n",
       "      <td>BTM Layout, Bengaluru - KSPCB</td>\n",
       "      <td>Bengaluru</td>\n",
       "      <td>IN</td>\n",
       "      <td>co</td>\n",
       "      <td>910.00</td>\n",
       "      <td>2018-02-22 03:00:00+00:00</td>\n",
       "      <td>µg/m³</td>\n",
       "      <td>CPCB</td>\n",
       "      <td>12.912811</td>\n",
       "      <td>77.60922</td>\n",
       "      <td>0.25</td>\n",
       "    </tr>\n",
       "    <tr>\n",
       "      <th>1</th>\n",
       "      <td>BTM Layout, Bengaluru - KSPCB</td>\n",
       "      <td>Bengaluru</td>\n",
       "      <td>IN</td>\n",
       "      <td>no2</td>\n",
       "      <td>131.87</td>\n",
       "      <td>2018-02-22 03:00:00+00:00</td>\n",
       "      <td>µg/m³</td>\n",
       "      <td>CPCB</td>\n",
       "      <td>12.912811</td>\n",
       "      <td>77.60922</td>\n",
       "      <td>0.25</td>\n",
       "    </tr>\n",
       "    <tr>\n",
       "      <th>2</th>\n",
       "      <td>BTM Layout, Bengaluru - KSPCB</td>\n",
       "      <td>Bengaluru</td>\n",
       "      <td>IN</td>\n",
       "      <td>o3</td>\n",
       "      <td>15.57</td>\n",
       "      <td>2018-02-22 03:00:00+00:00</td>\n",
       "      <td>µg/m³</td>\n",
       "      <td>CPCB</td>\n",
       "      <td>12.912811</td>\n",
       "      <td>77.60922</td>\n",
       "      <td>0.25</td>\n",
       "    </tr>\n",
       "    <tr>\n",
       "      <th>3</th>\n",
       "      <td>BTM Layout, Bengaluru - KSPCB</td>\n",
       "      <td>Bengaluru</td>\n",
       "      <td>IN</td>\n",
       "      <td>pm25</td>\n",
       "      <td>45.62</td>\n",
       "      <td>2018-02-22 03:00:00+00:00</td>\n",
       "      <td>µg/m³</td>\n",
       "      <td>CPCB</td>\n",
       "      <td>12.912811</td>\n",
       "      <td>77.60922</td>\n",
       "      <td>0.25</td>\n",
       "    </tr>\n",
       "    <tr>\n",
       "      <th>4</th>\n",
       "      <td>BTM Layout, Bengaluru - KSPCB</td>\n",
       "      <td>Bengaluru</td>\n",
       "      <td>IN</td>\n",
       "      <td>so2</td>\n",
       "      <td>4.49</td>\n",
       "      <td>2018-02-22 03:00:00+00:00</td>\n",
       "      <td>µg/m³</td>\n",
       "      <td>CPCB</td>\n",
       "      <td>12.912811</td>\n",
       "      <td>77.60922</td>\n",
       "      <td>0.25</td>\n",
       "    </tr>\n",
       "  </tbody>\n",
       "</table>\n",
       "</div>"
      ],
      "text/plain": [
       "                        location       city country pollutant   value  \\\n",
       "0  BTM Layout, Bengaluru - KSPCB  Bengaluru      IN        co  910.00   \n",
       "1  BTM Layout, Bengaluru - KSPCB  Bengaluru      IN       no2  131.87   \n",
       "2  BTM Layout, Bengaluru - KSPCB  Bengaluru      IN        o3   15.57   \n",
       "3  BTM Layout, Bengaluru - KSPCB  Bengaluru      IN      pm25   45.62   \n",
       "4  BTM Layout, Bengaluru - KSPCB  Bengaluru      IN       so2    4.49   \n",
       "\n",
       "                  timestamp   unit source_name   latitude  longitude  \\\n",
       "0 2018-02-22 03:00:00+00:00  µg/m³        CPCB  12.912811   77.60922   \n",
       "1 2018-02-22 03:00:00+00:00  µg/m³        CPCB  12.912811   77.60922   \n",
       "2 2018-02-22 03:00:00+00:00  µg/m³        CPCB  12.912811   77.60922   \n",
       "3 2018-02-22 03:00:00+00:00  µg/m³        CPCB  12.912811   77.60922   \n",
       "4 2018-02-22 03:00:00+00:00  µg/m³        CPCB  12.912811   77.60922   \n",
       "\n",
       "   averaged_over_in_hours  \n",
       "0                    0.25  \n",
       "1                    0.25  \n",
       "2                    0.25  \n",
       "3                    0.25  \n",
       "4                    0.25  "
      ]
     },
     "execution_count": 33,
     "metadata": {},
     "output_type": "execute_result"
    }
   ],
   "source": [
    "# Construct a reference to the 'global_air_quality' table\n",
    "table_ref = dataset_ref.table('global_air_quality')\n",
    "\n",
    "# API request - fetch the table!\n",
    "table = client.get_table(table_ref)\n",
    "\n",
    "# Preview the first five lines of the table\n",
    "client.list_rows(table, max_results=5).to_dataframe()"
   ]
  },
  {
   "cell_type": "code",
   "execution_count": 34,
   "metadata": {},
   "outputs": [
    {
     "data": {
      "text/plain": [
       "[SchemaField('location', 'STRING', 'NULLABLE', 'Location where data was measured', ()),\n",
       " SchemaField('city', 'STRING', 'NULLABLE', 'City containing location', ()),\n",
       " SchemaField('country', 'STRING', 'NULLABLE', 'Country containing measurement in 2 letter ISO code', ()),\n",
       " SchemaField('pollutant', 'STRING', 'NULLABLE', 'Name of the Pollutant being measured. Allowed values: PM25, PM10, SO2, NO2, O3, CO, BC', ()),\n",
       " SchemaField('value', 'FLOAT', 'NULLABLE', 'Latest measured value for the pollutant', ()),\n",
       " SchemaField('timestamp', 'TIMESTAMP', 'NULLABLE', 'The datetime at which the pollutant was measured, in ISO 8601 format', ()),\n",
       " SchemaField('unit', 'STRING', 'NULLABLE', 'The unit the value was measured in coded by UCUM Code', ()),\n",
       " SchemaField('source_name', 'STRING', 'NULLABLE', 'Name of the source of the data', ()),\n",
       " SchemaField('latitude', 'FLOAT', 'NULLABLE', 'Latitude in decimal degrees. Precision >3 decimal points.', ()),\n",
       " SchemaField('longitude', 'FLOAT', 'NULLABLE', 'Longitude in decimal degrees. Precision >3 decimal points.', ()),\n",
       " SchemaField('averaged_over_in_hours', 'FLOAT', 'NULLABLE', 'The number of hours the value was averaged over.', ())]"
      ]
     },
     "execution_count": 34,
     "metadata": {},
     "output_type": "execute_result"
    }
   ],
   "source": [
    "table.schema"
   ]
  },
  {
   "cell_type": "markdown",
   "metadata": {},
   "source": [
    "Let's query it!"
   ]
  },
  {
   "cell_type": "code",
   "execution_count": 39,
   "metadata": {},
   "outputs": [],
   "source": [
    "# Query to select all the items from the 'city' column where the 'country' is 'US'\n",
    "query = \"\"\"\n",
    "        SELECT city\n",
    "        FROM `bigquery-public-data.openaq.global_air_quality`\n",
    "        WHERE country = 'US'\n",
    "        \"\"\""
   ]
  },
  {
   "cell_type": "markdown",
   "metadata": {},
   "source": [
    "### Submitting the query to the dataset  \n",
    "We're ready to use this query to get the info from the OpenAQ dataset. We start by creating a `Client` object."
   ]
  },
  {
   "cell_type": "code",
   "execution_count": 40,
   "metadata": {},
   "outputs": [],
   "source": [
    "client = bigquery.Client()"
   ]
  },
  {
   "cell_type": "code",
   "execution_count": 41,
   "metadata": {},
   "outputs": [],
   "source": [
    "# Set up the query\n",
    "query_job = client.query(query)"
   ]
  },
  {
   "cell_type": "markdown",
   "metadata": {},
   "source": [
    "Now, we run the query and convert the results to a pandas DataFrame."
   ]
  },
  {
   "cell_type": "code",
   "execution_count": 42,
   "metadata": {},
   "outputs": [],
   "source": [
    "# API request - run the query and return a pandas DataFrame\n",
    "us_cities = query_job.to_dataframe()"
   ]
  },
  {
   "cell_type": "markdown",
   "metadata": {},
   "source": [
    "Now we can work with the pandas dataframe"
   ]
  },
  {
   "cell_type": "code",
   "execution_count": 43,
   "metadata": {},
   "outputs": [
    {
     "data": {
      "text/plain": [
       "Phoenix-Mesa-Scottsdale             88\n",
       "Houston                             82\n",
       "Los Angeles-Long Beach-Santa Ana    71\n",
       "Riverside-San Bernardino-Ontario    60\n",
       "San Francisco-Oakland-Fremont       58\n",
       "Name: city, dtype: int64"
      ]
     },
     "execution_count": 43,
     "metadata": {},
     "output_type": "execute_result"
    }
   ],
   "source": [
    "# What five cities have the most measurements?\n",
    "us_cities.city.value_counts().head()"
   ]
  },
  {
   "cell_type": "markdown",
   "metadata": {},
   "source": [
    "### More queries  \n",
    "If one wants multiple columns, you can select them with a comma between the names:  \n",
    "`query = \"\"\"\n",
    "         SELECT city, country\n",
    "         FROM 'bigquery-public-data.openaq.global_air_quality' \n",
    "         WHERE country = 'US'\n",
    "         \"\"\"`\n",
    "         \n",
    "One can select all the columns with a `*`: \n",
    "\n",
    "`query = \"\"\"\n",
    "         SELECT *\n",
    "         FROM 'bigquery-public-data.openaq.global_air_quality' \n",
    "         WHERE country = 'US'\n",
    "         \"\"\"`\n",
    "         "
   ]
  },
  {
   "cell_type": "markdown",
   "metadata": {},
   "source": [
    "You can estimate the size of *any* query before running it. For that, we create a `QueryJobConfig` object and set the `dry_run` parameter to `True`"
   ]
  },
  {
   "cell_type": "code",
   "execution_count": 67,
   "metadata": {},
   "outputs": [
    {
     "name": "stdout",
     "output_type": "stream",
     "text": [
      "This query will process 391.57072700000003 mega bytes.\n"
     ]
    }
   ],
   "source": [
    "# Query to get two columns: score and title. Only data where the *type* column has value 'job'\n",
    "query = \"\"\"\n",
    "        SELECT score, title\n",
    "        FROM `bigquery-public-data.hacker_news.full`\n",
    "        WHERE type = 'job'\n",
    "        \"\"\"\n",
    "\n",
    "# Create a QueryJobConfig object to estimate size of query **without running it**\n",
    "dry_run_config = bigquery.QueryJobConfig(dry_run=True)\n",
    "\n",
    "# API request - dry run query to estimate costs\n",
    "dry_run_query_job = client.query(query, job_config=dry_run_config)\n",
    "\n",
    "print('This query will process {} mega bytes.'.format(dry_run_query_job.total_bytes_processed/1000/1000))"
   ]
  },
  {
   "cell_type": "code",
   "execution_count": 52,
   "metadata": {},
   "outputs": [
    {
     "name": "stdout",
     "output_type": "stream",
     "text": [
      "This query will process 0.415636 mega bytes.\n"
     ]
    }
   ],
   "source": [
    "# Lest check this one I already ran \n",
    "query2 = \"\"\"\n",
    "        SELECT city\n",
    "        FROM `bigquery-public-data.openaq.global_air_quality`\n",
    "        WHERE country = 'US'\n",
    "        \"\"\"\n",
    "dry_run_query_job2 = client.query(query2, job_config=dry_run_config)\n",
    "print('This query will process {} mega bytes.'.format(dry_run_query_job2.total_bytes_processed/1000/1000))"
   ]
  },
  {
   "cell_type": "markdown",
   "metadata": {},
   "source": [
    "Almost half a MB!\n",
    "\n",
    "Following the same direction, you can set a limit to how much data you are willing to scan.  \n",
    "For example:"
   ]
  },
  {
   "cell_type": "code",
   "execution_count": 72,
   "metadata": {},
   "outputs": [],
   "source": [
    "query4 = \"\"\"\n",
    "        SELECT score, title\n",
    "        FROM `bigquery-public-data.hacker_news.full`\n",
    "        WHERE type = 'job'\n",
    "        \"\"\"\n",
    "\n",
    "# Only run the query if it is less than 1 MB\n",
    "ONE_MB = 10\n",
    "safe_config2 = bigquery.QueryJobConfig(maximum_bytes_billed=10)\n",
    "\n",
    "# Set up the query (will only run if it is less than 1 MB)\n",
    "safe_query_job = client.query(query4, job_config=safe_config2)\n",
    "\n",
    "# API request - try to run the query, and return a pandas DataFrame\n",
    "job_post_scores = safe_query_job.to_dataframe()"
   ]
  },
  {
   "cell_type": "code",
   "execution_count": 70,
   "metadata": {},
   "outputs": [
    {
     "data": {
      "text/plain": [
       "1.9125741595253791"
      ]
     },
     "execution_count": 70,
     "metadata": {},
     "output_type": "execute_result"
    }
   ],
   "source": [
    "job_post_scores.score.mean()"
   ]
  },
  {
   "cell_type": "code",
   "execution_count": 73,
   "metadata": {},
   "outputs": [
    {
     "name": "stdin",
     "output_type": "stream",
     "text": [
      "Once deleted, variables cannot be recovered. Proceed (y/[n])?  y\n"
     ]
    }
   ],
   "source": [
    "%reset"
   ]
  },
  {
   "cell_type": "code",
   "execution_count": 74,
   "metadata": {},
   "outputs": [],
   "source": [
    "from google.cloud import bigquery"
   ]
  },
  {
   "cell_type": "code",
   "execution_count": 75,
   "metadata": {},
   "outputs": [],
   "source": [
    "# Create a \"Client\" object\n",
    "client = bigquery.Client()"
   ]
  },
  {
   "cell_type": "code",
   "execution_count": 79,
   "metadata": {},
   "outputs": [
    {
     "name": "stdout",
     "output_type": "stream",
     "text": [
      "This query will process 391.57072700000003 mega bytes.\n"
     ]
    }
   ],
   "source": [
    "# Query to get two columns: score and title. Only data where the *type* column has value 'job'\n",
    "query = \"\"\"\n",
    "        SELECT score, title\n",
    "        FROM `bigquery-public-data.hacker_news.full`\n",
    "        WHERE type = 'job'\n",
    "        \"\"\"\n",
    "\n",
    "# Create a QueryJobConfig object to estimate size of query **without running it**\n",
    "dry_run_config = bigquery.QueryJobConfig(dry_run=True)\n",
    "\n",
    "# API request - dry run query to estimate costs\n",
    "dry_run_query_job = client.query(query, job_config=dry_run_config)\n",
    "\n",
    "print('This query will process {} mega bytes.'.format(dry_run_query_job.total_bytes_processed/1000/1000))"
   ]
  },
  {
   "cell_type": "code",
   "execution_count": 92,
   "metadata": {},
   "outputs": [
    {
     "name": "stdin",
     "output_type": "stream",
     "text": [
      "Once deleted, variables cannot be recovered. Proceed (y/[n])?  y\n"
     ]
    }
   ],
   "source": [
    "%reset"
   ]
  },
  {
   "cell_type": "code",
   "execution_count": 93,
   "metadata": {},
   "outputs": [],
   "source": [
    "from google.cloud import bigquery\n",
    "\n",
    "# Create a \"Client\" object\n",
    "client = bigquery.Client()"
   ]
  },
  {
   "cell_type": "code",
   "execution_count": 94,
   "metadata": {},
   "outputs": [],
   "source": [
    "query4 = \"\"\"\n",
    "        SELECT score, title\n",
    "        FROM `bigquery-public-data.hacker_news.full`\n",
    "        WHERE type = 'job'\n",
    "        \"\"\"\n",
    "\n",
    "# Only run the query if it is less than 1 MB\n",
    "ONE_MB = 10\n",
    "safe_config2 = bigquery.job.QueryJobConfig(maximum_bytes_billed=10)\n",
    "\n",
    "# Set up the query (will only run if it is less than 1 MB)\n",
    "safe_query_job = client.query(query4, job_config=safe_config2)\n",
    "\n",
    "# API request - try to run the query, and return a pandas DataFrame\n",
    "job_post_scores = safe_query_job.to_dataframe()"
   ]
  },
  {
   "cell_type": "code",
   "execution_count": 95,
   "metadata": {},
   "outputs": [
    {
     "data": {
      "text/plain": [
       "1.9125741595253791"
      ]
     },
     "execution_count": 95,
     "metadata": {},
     "output_type": "execute_result"
    }
   ],
   "source": [
    "job_post_scores.score.mean()"
   ]
  },
  {
   "cell_type": "markdown",
   "metadata": {},
   "source": [
    "---\n",
    "## Group By, Having & Count\n",
    "\n",
    "With these new commands we'll learn how to group the data and count things within those groups."
   ]
  },
  {
   "cell_type": "markdown",
   "metadata": {},
   "source": [
    "### COUNT()  \n",
    "It returns a count of things. IF you pass the name of a column, it'll return the number of entries in that column. \n",
    "\n",
    "`query = \"\"\"\n",
    "        SELECT COUNT(ID)\n",
    "        FROM 'bigquery-public-data.pet_records.pets'\n",
    "        \"\"\"`\n",
    "\n",
    "**COUNT()** is an example of an aggregate function: it takes many values and returns one. (Other agg. functions are **SUM()**, **AVG()**, **MIN()** and **MAX()**.) These functions introduce strange columns names, but we can change that. \n",
    "\n",
    "### GROUP BY  \n",
    "It takes the all the rows with the same value in a column as a single group when you apply agg. functions like **COUNT()**\n",
    "\n",
    "`query = \"\"\"\n",
    "        SELECT Animal, COUNT(ID)\n",
    "        FROM 'bigquery-public-data.pet_records.pets'\n",
    "        GROUP BY Animal\n",
    "        \"\"\"`\n",
    "        \n",
    "### GROUP BY ... HAVING  \n",
    "**HAVING** is used in combination with **GROUP BY** to ignore groups don't meet certain criteria.  \n",
    "This query will include groups that have more than one ID in them.\n",
    "\n",
    "`query = \"\"\"\n",
    "        SELECT COUNT(ID)\n",
    "        FROM 'bigquery-public-data.pet_records.pets'\n",
    "        GROUP BY Animal\n",
    "        HAVING COUNT(ID)>1\n",
    "        \"\"\"`\n",
    "\n",
    "Example!"
   ]
  },
  {
   "cell_type": "code",
   "execution_count": 96,
   "metadata": {},
   "outputs": [
    {
     "name": "stdin",
     "output_type": "stream",
     "text": [
      "Once deleted, variables cannot be recovered. Proceed (y/[n])?  y\n"
     ]
    },
    {
     "data": {
      "text/html": [
       "<div>\n",
       "<style scoped>\n",
       "    .dataframe tbody tr th:only-of-type {\n",
       "        vertical-align: middle;\n",
       "    }\n",
       "\n",
       "    .dataframe tbody tr th {\n",
       "        vertical-align: top;\n",
       "    }\n",
       "\n",
       "    .dataframe thead th {\n",
       "        text-align: right;\n",
       "    }\n",
       "</style>\n",
       "<table border=\"1\" class=\"dataframe\">\n",
       "  <thead>\n",
       "    <tr style=\"text-align: right;\">\n",
       "      <th></th>\n",
       "      <th>id</th>\n",
       "      <th>by</th>\n",
       "      <th>author</th>\n",
       "      <th>time</th>\n",
       "      <th>time_ts</th>\n",
       "      <th>text</th>\n",
       "      <th>parent</th>\n",
       "      <th>deleted</th>\n",
       "      <th>dead</th>\n",
       "      <th>ranking</th>\n",
       "    </tr>\n",
       "  </thead>\n",
       "  <tbody>\n",
       "    <tr>\n",
       "      <th>0</th>\n",
       "      <td>2701393</td>\n",
       "      <td>5l</td>\n",
       "      <td>5l</td>\n",
       "      <td>1309184881</td>\n",
       "      <td>2011-06-27 14:28:01+00:00</td>\n",
       "      <td>And the glazier who fixed all the broken windo...</td>\n",
       "      <td>2701243</td>\n",
       "      <td>None</td>\n",
       "      <td>None</td>\n",
       "      <td>0</td>\n",
       "    </tr>\n",
       "    <tr>\n",
       "      <th>1</th>\n",
       "      <td>5811403</td>\n",
       "      <td>99</td>\n",
       "      <td>99</td>\n",
       "      <td>1370234048</td>\n",
       "      <td>2013-06-03 04:34:08+00:00</td>\n",
       "      <td>Does canada have the equivalent of H1B/Green c...</td>\n",
       "      <td>5804452</td>\n",
       "      <td>None</td>\n",
       "      <td>None</td>\n",
       "      <td>0</td>\n",
       "    </tr>\n",
       "    <tr>\n",
       "      <th>2</th>\n",
       "      <td>21623</td>\n",
       "      <td>AF</td>\n",
       "      <td>AF</td>\n",
       "      <td>1178992400</td>\n",
       "      <td>2007-05-12 17:53:20+00:00</td>\n",
       "      <td>Speaking of Rails, there are other options in ...</td>\n",
       "      <td>21611</td>\n",
       "      <td>None</td>\n",
       "      <td>None</td>\n",
       "      <td>0</td>\n",
       "    </tr>\n",
       "    <tr>\n",
       "      <th>3</th>\n",
       "      <td>10159727</td>\n",
       "      <td>EA</td>\n",
       "      <td>EA</td>\n",
       "      <td>1441206574</td>\n",
       "      <td>2015-09-02 15:09:34+00:00</td>\n",
       "      <td>Humans and large livestock (and maybe even pet...</td>\n",
       "      <td>10159396</td>\n",
       "      <td>None</td>\n",
       "      <td>None</td>\n",
       "      <td>0</td>\n",
       "    </tr>\n",
       "    <tr>\n",
       "      <th>4</th>\n",
       "      <td>2988424</td>\n",
       "      <td>Iv</td>\n",
       "      <td>Iv</td>\n",
       "      <td>1315853580</td>\n",
       "      <td>2011-09-12 18:53:00+00:00</td>\n",
       "      <td>I must say I reacted in the same way when I re...</td>\n",
       "      <td>2988179</td>\n",
       "      <td>None</td>\n",
       "      <td>None</td>\n",
       "      <td>0</td>\n",
       "    </tr>\n",
       "  </tbody>\n",
       "</table>\n",
       "</div>"
      ],
      "text/plain": [
       "         id  by author        time                   time_ts  \\\n",
       "0   2701393  5l     5l  1309184881 2011-06-27 14:28:01+00:00   \n",
       "1   5811403  99     99  1370234048 2013-06-03 04:34:08+00:00   \n",
       "2     21623  AF     AF  1178992400 2007-05-12 17:53:20+00:00   \n",
       "3  10159727  EA     EA  1441206574 2015-09-02 15:09:34+00:00   \n",
       "4   2988424  Iv     Iv  1315853580 2011-09-12 18:53:00+00:00   \n",
       "\n",
       "                                                text    parent deleted  dead  \\\n",
       "0  And the glazier who fixed all the broken windo...   2701243    None  None   \n",
       "1  Does canada have the equivalent of H1B/Green c...   5804452    None  None   \n",
       "2  Speaking of Rails, there are other options in ...     21611    None  None   \n",
       "3  Humans and large livestock (and maybe even pet...  10159396    None  None   \n",
       "4  I must say I reacted in the same way when I re...   2988179    None  None   \n",
       "\n",
       "   ranking  \n",
       "0        0  \n",
       "1        0  \n",
       "2        0  \n",
       "3        0  \n",
       "4        0  "
      ]
     },
     "execution_count": 96,
     "metadata": {},
     "output_type": "execute_result"
    }
   ],
   "source": [
    "%reset\n",
    "from google.cloud import bigquery\n",
    "\n",
    "# Create a \"Client\" object\n",
    "client = bigquery.Client()\n",
    "\n",
    "# Construct a reference to the \"hacker_news\" dataset\n",
    "dataset_ref = client.dataset('hacker_news', project='bigquery-public-data')\n",
    "\n",
    "# API request\n",
    "dataset = client.get_dataset(dataset_ref)\n",
    "\n",
    "# Construct a reference to the 'comments' table\n",
    "table_ref = dataset_ref.table('comments')\n",
    "\n",
    "# API request\n",
    "table = client.get_table(table_ref)\n",
    "\n",
    "# Preview the first five items of the 'comments' table\n",
    "client.list_rows(table, max_results=5).to_dataframe()"
   ]
  },
  {
   "cell_type": "markdown",
   "metadata": {},
   "source": [
    "We can find the comment that generated the mos replies, since:\n",
    "- the `parent` column indicates the comment that was replied to, and \n",
    "- the `id` column has the unique ID used to identify each comment, \n",
    "\n",
    "we can **GROUP BY** the `parent` column and **COUNT()** the `id` column to se the number of responses to that comment. \n",
    "\n",
    "We can even set a lower limit to the **HAVING**"
   ]
  },
  {
   "cell_type": "code",
   "execution_count": 102,
   "metadata": {},
   "outputs": [],
   "source": [
    "query_popular = \"\"\"\n",
    "                SELECT parent, COUNT(id) AS Replies\n",
    "                FROM `bigquery-public-data.hacker_news.comments`\n",
    "                GROUP BY parent\n",
    "                HAVING COUNT(id) > 10\n",
    "                \"\"\""
   ]
  },
  {
   "cell_type": "code",
   "execution_count": 105,
   "metadata": {},
   "outputs": [
    {
     "data": {
      "text/html": [
       "<div>\n",
       "<style scoped>\n",
       "    .dataframe tbody tr th:only-of-type {\n",
       "        vertical-align: middle;\n",
       "    }\n",
       "\n",
       "    .dataframe tbody tr th {\n",
       "        vertical-align: top;\n",
       "    }\n",
       "\n",
       "    .dataframe thead th {\n",
       "        text-align: right;\n",
       "    }\n",
       "</style>\n",
       "<table border=\"1\" class=\"dataframe\">\n",
       "  <thead>\n",
       "    <tr style=\"text-align: right;\">\n",
       "      <th></th>\n",
       "      <th>parent</th>\n",
       "      <th>Replies</th>\n",
       "    </tr>\n",
       "  </thead>\n",
       "  <tbody>\n",
       "    <tr>\n",
       "      <th>0</th>\n",
       "      <td>4684384</td>\n",
       "      <td>87</td>\n",
       "    </tr>\n",
       "    <tr>\n",
       "      <th>1</th>\n",
       "      <td>6584683</td>\n",
       "      <td>47</td>\n",
       "    </tr>\n",
       "    <tr>\n",
       "      <th>2</th>\n",
       "      <td>9616946</td>\n",
       "      <td>78</td>\n",
       "    </tr>\n",
       "    <tr>\n",
       "      <th>3</th>\n",
       "      <td>7750036</td>\n",
       "      <td>57</td>\n",
       "    </tr>\n",
       "    <tr>\n",
       "      <th>4</th>\n",
       "      <td>8185461</td>\n",
       "      <td>63</td>\n",
       "    </tr>\n",
       "  </tbody>\n",
       "</table>\n",
       "</div>"
      ],
      "text/plain": [
       "    parent  Replies\n",
       "0  4684384       87\n",
       "1  6584683       47\n",
       "2  9616946       78\n",
       "3  7750036       57\n",
       "4  8185461       63"
      ]
     },
     "execution_count": 105,
     "metadata": {},
     "output_type": "execute_result"
    }
   ],
   "source": [
    "# Set up the query limit\n",
    "safe_config3 = bigquery.QueryJobConfig(maximum_bytes_billed=1)\n",
    "query_job = client.query(query_popular, job_config=safe_config3)\n",
    "\n",
    "# API request \n",
    "popular_comments = query_job.to_dataframe()\n",
    "\n",
    "# Print the first five rows of the data frame\n",
    "popular_comments.head()"
   ]
  },
  {
   "cell_type": "markdown",
   "metadata": {},
   "source": [
    "### Aliasing and other improvements\n",
    "\n",
    "- The column resulting from `COUNT(id)` was called `f0_`. You can change that by adding `AS \"NEWNAME\"` after specifying the aggregation. This is called **aliasing**. \n",
    "- You can do `COUNT(1)` to count the rows in each group. Most people find it specially readable, because we know it's not focusing on other columns.  It also scans less data than if supplied column names (making it faster and using less of your data access quota)."
   ]
  },
  {
   "cell_type": "markdown",
   "metadata": {},
   "source": [
    "---\n",
    "## Order By\n",
    "\n",
    "It is usually the last clause in a query, and it sorts the results returned by the rest of your query. \n",
    "\n",
    "`query = \"\"\"\n",
    "        SELECT ID, Name, Animal\n",
    "        FROM 'bigquery-public-data.pet_records.pets'\n",
    "        ORDER BY ID \n",
    "        \"\"\"`\n",
    "\n",
    "If you *order* a column that contains text, the results show up in alphabetical order. \n",
    "\n",
    "You can rever the *order* by using the **DESC** argument (*descending*). \n",
    "\n",
    "`query = \"\"\"\n",
    "        SELECT ID, Name, Animal\n",
    "        FROM 'bigquery-public-data.pet_records.pets'\n",
    "        ORDER BY Animal DESC\n",
    "        \"\"\"`\n",
    "        \n",
    "### Dates\n",
    "\n",
    "Dates are very common in databases: They can be stores as **DATE** or as **DATETIME**. The **DATE** format has the year first, then the month, and then the day:\n",
    "`YYYY - [M]M - [D]D`. You can have either one or two digits for monrth and day.  \n",
    "\n",
    "The **DATETIME** format is like the date format, but with the time added at the end.\n",
    "\n",
    "\n",
    "## EXTRACT  \n",
    "\n",
    "You can use **EXTRACT** to obtain just a part of a date, such as only the year, or the day.  \n",
    "`query = \"\"\"\n",
    "        SELECT Name, EXTRACT(DAY from Date) AS Day\n",
    "        FROM 'bigquery-public-data.pet_records.pets_with_date'\n",
    "        \"\"\"`\n",
    "        \n",
    "You can even extract the week in the year (between 1 and 53) for each date in the `Date` column.  \n",
    "`query = \"\"\"                                                  \n",
    "        SELECT Name, EXTRACT(WEEK from Date) AS Week          \n",
    "        FROM 'bigquery-public-data.pet_records.pets_with_date'\n",
    "        \"\"\"`                                                  \n",
    "        \n",
    "More info in [here](https://cloud.google.com/bigquery/docs/reference/legacy-sql#datetimefunctions).\n",
    "\n",
    "Example: Which day of the week has the most fatal motor accidents?\n",
    "\n",
    "Using the *US Traffic Fatality Records* database, which contains information on traffic accidents in the US where at least one person died. \n",
    "\n",
    "Let's investigate the `accident_2015` table:"
   ]
  },
  {
   "cell_type": "code",
   "execution_count": 109,
   "metadata": {},
   "outputs": [
    {
     "name": "stdin",
     "output_type": "stream",
     "text": [
      "Once deleted, variables cannot be recovered. Proceed (y/[n])?  y\n"
     ]
    },
    {
     "data": {
      "text/html": [
       "<div>\n",
       "<style scoped>\n",
       "    .dataframe tbody tr th:only-of-type {\n",
       "        vertical-align: middle;\n",
       "    }\n",
       "\n",
       "    .dataframe tbody tr th {\n",
       "        vertical-align: top;\n",
       "    }\n",
       "\n",
       "    .dataframe thead th {\n",
       "        text-align: right;\n",
       "    }\n",
       "</style>\n",
       "<table border=\"1\" class=\"dataframe\">\n",
       "  <thead>\n",
       "    <tr style=\"text-align: right;\">\n",
       "      <th></th>\n",
       "      <th>state_number</th>\n",
       "      <th>state_name</th>\n",
       "      <th>consecutive_number</th>\n",
       "      <th>number_of_vehicle_forms_submitted_all</th>\n",
       "      <th>number_of_motor_vehicles_in_transport_mvit</th>\n",
       "      <th>number_of_parked_working_vehicles</th>\n",
       "      <th>number_of_forms_submitted_for_persons_not_in_motor_vehicles</th>\n",
       "      <th>number_of_persons_not_in_motor_vehicles_in_transport_mvit</th>\n",
       "      <th>number_of_persons_in_motor_vehicles_in_transport_mvit</th>\n",
       "      <th>number_of_forms_submitted_for_persons_in_motor_vehicles</th>\n",
       "      <th>...</th>\n",
       "      <th>minute_of_ems_arrival_at_hospital</th>\n",
       "      <th>related_factors_crash_level_1</th>\n",
       "      <th>related_factors_crash_level_1_name</th>\n",
       "      <th>related_factors_crash_level_2</th>\n",
       "      <th>related_factors_crash_level_2_name</th>\n",
       "      <th>related_factors_crash_level_3</th>\n",
       "      <th>related_factors_crash_level_3_name</th>\n",
       "      <th>number_of_fatalities</th>\n",
       "      <th>number_of_drunk_drivers</th>\n",
       "      <th>timestamp_of_crash</th>\n",
       "    </tr>\n",
       "  </thead>\n",
       "  <tbody>\n",
       "    <tr>\n",
       "      <th>0</th>\n",
       "      <td>19</td>\n",
       "      <td>Iowa</td>\n",
       "      <td>190204</td>\n",
       "      <td>1</td>\n",
       "      <td>1</td>\n",
       "      <td>0</td>\n",
       "      <td>0</td>\n",
       "      <td>0</td>\n",
       "      <td>1</td>\n",
       "      <td>1</td>\n",
       "      <td>...</td>\n",
       "      <td>2</td>\n",
       "      <td>0</td>\n",
       "      <td>None</td>\n",
       "      <td>0</td>\n",
       "      <td>None</td>\n",
       "      <td>0</td>\n",
       "      <td>None</td>\n",
       "      <td>1</td>\n",
       "      <td>1</td>\n",
       "      <td>2015-09-11 20:20:00+00:00</td>\n",
       "    </tr>\n",
       "    <tr>\n",
       "      <th>1</th>\n",
       "      <td>19</td>\n",
       "      <td>Iowa</td>\n",
       "      <td>190233</td>\n",
       "      <td>1</td>\n",
       "      <td>1</td>\n",
       "      <td>0</td>\n",
       "      <td>0</td>\n",
       "      <td>0</td>\n",
       "      <td>1</td>\n",
       "      <td>1</td>\n",
       "      <td>...</td>\n",
       "      <td>88</td>\n",
       "      <td>0</td>\n",
       "      <td>None</td>\n",
       "      <td>0</td>\n",
       "      <td>None</td>\n",
       "      <td>0</td>\n",
       "      <td>None</td>\n",
       "      <td>1</td>\n",
       "      <td>1</td>\n",
       "      <td>2015-11-01 00:30:00+00:00</td>\n",
       "    </tr>\n",
       "    <tr>\n",
       "      <th>2</th>\n",
       "      <td>19</td>\n",
       "      <td>Iowa</td>\n",
       "      <td>190179</td>\n",
       "      <td>1</td>\n",
       "      <td>1</td>\n",
       "      <td>0</td>\n",
       "      <td>0</td>\n",
       "      <td>0</td>\n",
       "      <td>2</td>\n",
       "      <td>2</td>\n",
       "      <td>...</td>\n",
       "      <td>1</td>\n",
       "      <td>0</td>\n",
       "      <td>None</td>\n",
       "      <td>0</td>\n",
       "      <td>None</td>\n",
       "      <td>0</td>\n",
       "      <td>None</td>\n",
       "      <td>1</td>\n",
       "      <td>0</td>\n",
       "      <td>2015-05-04 16:18:00+00:00</td>\n",
       "    </tr>\n",
       "    <tr>\n",
       "      <th>3</th>\n",
       "      <td>19</td>\n",
       "      <td>Iowa</td>\n",
       "      <td>190248</td>\n",
       "      <td>1</td>\n",
       "      <td>1</td>\n",
       "      <td>0</td>\n",
       "      <td>0</td>\n",
       "      <td>0</td>\n",
       "      <td>4</td>\n",
       "      <td>4</td>\n",
       "      <td>...</td>\n",
       "      <td>99</td>\n",
       "      <td>0</td>\n",
       "      <td>None</td>\n",
       "      <td>0</td>\n",
       "      <td>None</td>\n",
       "      <td>0</td>\n",
       "      <td>None</td>\n",
       "      <td>2</td>\n",
       "      <td>0</td>\n",
       "      <td>2015-11-17 12:26:00+00:00</td>\n",
       "    </tr>\n",
       "    <tr>\n",
       "      <th>4</th>\n",
       "      <td>19</td>\n",
       "      <td>Iowa</td>\n",
       "      <td>190231</td>\n",
       "      <td>1</td>\n",
       "      <td>1</td>\n",
       "      <td>0</td>\n",
       "      <td>0</td>\n",
       "      <td>0</td>\n",
       "      <td>1</td>\n",
       "      <td>1</td>\n",
       "      <td>...</td>\n",
       "      <td>88</td>\n",
       "      <td>0</td>\n",
       "      <td>None</td>\n",
       "      <td>0</td>\n",
       "      <td>None</td>\n",
       "      <td>0</td>\n",
       "      <td>None</td>\n",
       "      <td>1</td>\n",
       "      <td>0</td>\n",
       "      <td>2015-10-31 04:49:00+00:00</td>\n",
       "    </tr>\n",
       "  </tbody>\n",
       "</table>\n",
       "<p>5 rows × 70 columns</p>\n",
       "</div>"
      ],
      "text/plain": [
       "   state_number state_name  consecutive_number  \\\n",
       "0            19       Iowa              190204   \n",
       "1            19       Iowa              190233   \n",
       "2            19       Iowa              190179   \n",
       "3            19       Iowa              190248   \n",
       "4            19       Iowa              190231   \n",
       "\n",
       "   number_of_vehicle_forms_submitted_all  \\\n",
       "0                                      1   \n",
       "1                                      1   \n",
       "2                                      1   \n",
       "3                                      1   \n",
       "4                                      1   \n",
       "\n",
       "   number_of_motor_vehicles_in_transport_mvit  \\\n",
       "0                                           1   \n",
       "1                                           1   \n",
       "2                                           1   \n",
       "3                                           1   \n",
       "4                                           1   \n",
       "\n",
       "   number_of_parked_working_vehicles  \\\n",
       "0                                  0   \n",
       "1                                  0   \n",
       "2                                  0   \n",
       "3                                  0   \n",
       "4                                  0   \n",
       "\n",
       "   number_of_forms_submitted_for_persons_not_in_motor_vehicles  \\\n",
       "0                                                  0             \n",
       "1                                                  0             \n",
       "2                                                  0             \n",
       "3                                                  0             \n",
       "4                                                  0             \n",
       "\n",
       "   number_of_persons_not_in_motor_vehicles_in_transport_mvit  \\\n",
       "0                                                  0           \n",
       "1                                                  0           \n",
       "2                                                  0           \n",
       "3                                                  0           \n",
       "4                                                  0           \n",
       "\n",
       "   number_of_persons_in_motor_vehicles_in_transport_mvit  \\\n",
       "0                                                  1       \n",
       "1                                                  1       \n",
       "2                                                  2       \n",
       "3                                                  4       \n",
       "4                                                  1       \n",
       "\n",
       "   number_of_forms_submitted_for_persons_in_motor_vehicles  ...  \\\n",
       "0                                                  1        ...   \n",
       "1                                                  1        ...   \n",
       "2                                                  2        ...   \n",
       "3                                                  4        ...   \n",
       "4                                                  1        ...   \n",
       "\n",
       "   minute_of_ems_arrival_at_hospital  related_factors_crash_level_1  \\\n",
       "0                                  2                              0   \n",
       "1                                 88                              0   \n",
       "2                                  1                              0   \n",
       "3                                 99                              0   \n",
       "4                                 88                              0   \n",
       "\n",
       "   related_factors_crash_level_1_name  related_factors_crash_level_2  \\\n",
       "0                                None                              0   \n",
       "1                                None                              0   \n",
       "2                                None                              0   \n",
       "3                                None                              0   \n",
       "4                                None                              0   \n",
       "\n",
       "   related_factors_crash_level_2_name  related_factors_crash_level_3  \\\n",
       "0                                None                              0   \n",
       "1                                None                              0   \n",
       "2                                None                              0   \n",
       "3                                None                              0   \n",
       "4                                None                              0   \n",
       "\n",
       "   related_factors_crash_level_3_name  number_of_fatalities  \\\n",
       "0                                None                     1   \n",
       "1                                None                     1   \n",
       "2                                None                     1   \n",
       "3                                None                     2   \n",
       "4                                None                     1   \n",
       "\n",
       "   number_of_drunk_drivers        timestamp_of_crash  \n",
       "0                        1 2015-09-11 20:20:00+00:00  \n",
       "1                        1 2015-11-01 00:30:00+00:00  \n",
       "2                        0 2015-05-04 16:18:00+00:00  \n",
       "3                        0 2015-11-17 12:26:00+00:00  \n",
       "4                        0 2015-10-31 04:49:00+00:00  \n",
       "\n",
       "[5 rows x 70 columns]"
      ]
     },
     "execution_count": 109,
     "metadata": {},
     "output_type": "execute_result"
    }
   ],
   "source": [
    "%reset\n",
    "from google.cloud import bigquery\n",
    "\n",
    "# Create 'client' object\n",
    "client = bigquery.Client()\n",
    "\n",
    "# Construct a reference to the 'nhtsa_traffic_fatalities' dataset\n",
    "dataset_ref = client.dataset('nhtsa_traffic_fatalities', project='bigquery-public-data')\n",
    "\n",
    "# API request- fetch it!\n",
    "dataset = client.get_dataset(dataset_ref)\n",
    "\n",
    "# Construct a reference to the 'accident_2015' table\n",
    "table_ref = dataset_ref.table('accident_2015')\n",
    "\n",
    "# API request - fetch the table!\n",
    "table = client.get_table(table_ref)\n",
    "\n",
    "# Preview the first five lines of the 'accident_2015' table\n",
    "client.list_rows(table, max_results=5).to_dataframe()"
   ]
  },
  {
   "cell_type": "markdown",
   "metadata": {},
   "source": [
    "We can use the table to see how the number of accidents varies with the day of the week. Since:\n",
    "- the `consecutive_number` column contains a unique ID for each accident, and\n",
    "- the `timestamp_of_crash` column contains the date of the accident in DATETIME format,  \n",
    "\n",
    "we can:  \n",
    "- **EXTRACT** the day of the week (as `day_of_the_week` in the query below) from the `timestamp_of_crash` column, and\n",
    "- **GROUP BY** the day of the week, before we **COUNT** the `consecutive_number` column to determine the number of accidents for each day of the week. \n",
    "\n",
    "Then we can sort the table with an **ORDER BY** clause, so we put the days with more accidents on top: "
   ]
  },
  {
   "cell_type": "code",
   "execution_count": 112,
   "metadata": {},
   "outputs": [],
   "source": [
    "# Query to find the number of accidents for each day of the week\n",
    "query = \"\"\"\n",
    "        SELECT COUNT(consecutive_number) AS num_accidents, \n",
    "               EXTRACT(DAYOFWEEK FROM timestamp_of_crash) AS day_of_week\n",
    "        FROM `bigquery-public-data.nhtsa_traffic_fatalities.accident_2015`\n",
    "        GROUP BY day_of_week\n",
    "        ORDER BY num_accidents DESC\n",
    "        \"\"\""
   ]
  },
  {
   "cell_type": "code",
   "execution_count": 113,
   "metadata": {},
   "outputs": [
    {
     "data": {
      "text/html": [
       "<div>\n",
       "<style scoped>\n",
       "    .dataframe tbody tr th:only-of-type {\n",
       "        vertical-align: middle;\n",
       "    }\n",
       "\n",
       "    .dataframe tbody tr th {\n",
       "        vertical-align: top;\n",
       "    }\n",
       "\n",
       "    .dataframe thead th {\n",
       "        text-align: right;\n",
       "    }\n",
       "</style>\n",
       "<table border=\"1\" class=\"dataframe\">\n",
       "  <thead>\n",
       "    <tr style=\"text-align: right;\">\n",
       "      <th></th>\n",
       "      <th>num_accidents</th>\n",
       "      <th>day_of_week</th>\n",
       "    </tr>\n",
       "  </thead>\n",
       "  <tbody>\n",
       "    <tr>\n",
       "      <th>0</th>\n",
       "      <td>5659</td>\n",
       "      <td>7</td>\n",
       "    </tr>\n",
       "    <tr>\n",
       "      <th>1</th>\n",
       "      <td>5298</td>\n",
       "      <td>1</td>\n",
       "    </tr>\n",
       "    <tr>\n",
       "      <th>2</th>\n",
       "      <td>4916</td>\n",
       "      <td>6</td>\n",
       "    </tr>\n",
       "    <tr>\n",
       "      <th>3</th>\n",
       "      <td>4460</td>\n",
       "      <td>5</td>\n",
       "    </tr>\n",
       "    <tr>\n",
       "      <th>4</th>\n",
       "      <td>4182</td>\n",
       "      <td>4</td>\n",
       "    </tr>\n",
       "    <tr>\n",
       "      <th>5</th>\n",
       "      <td>4038</td>\n",
       "      <td>2</td>\n",
       "    </tr>\n",
       "    <tr>\n",
       "      <th>6</th>\n",
       "      <td>3985</td>\n",
       "      <td>3</td>\n",
       "    </tr>\n",
       "  </tbody>\n",
       "</table>\n",
       "</div>"
      ],
      "text/plain": [
       "   num_accidents  day_of_week\n",
       "0           5659            7\n",
       "1           5298            1\n",
       "2           4916            6\n",
       "3           4460            5\n",
       "4           4182            4\n",
       "5           4038            2\n",
       "6           3985            3"
      ]
     },
     "execution_count": 113,
     "metadata": {},
     "output_type": "execute_result"
    }
   ],
   "source": [
    "# Set up the query (cancel the query if it would use too much of the quota, with the limit set to 1 GB)\n",
    "safe_config = bigquery.QueryJobConfig(maximum_bytes_billed=10**6)\n",
    "query_job = client.query(query, job_config=safe_config)\n",
    "\n",
    "# API request - run the query, and convert the results to a pandas DataFrame\n",
    "accidents_by_day = query_job.to_dataframe()\n",
    "\n",
    "# Print the DataFrame\n",
    "accidents_by_day"
   ]
  },
  {
   "cell_type": "markdown",
   "metadata": {},
   "source": [
    "From the [documentation](https://cloud.google.com/bigquery/docs/reference/legacy-sql#dayofweek), we can see that `1 = Sunday` and `7 = Saturday`. So, in 2015, most fatal motor accidents in the US ocurred on Sunday and Saturday, while the fewest happened on Tuesday."
   ]
  },
  {
   "cell_type": "markdown",
   "metadata": {},
   "source": [
    "## As & With\n",
    "\n",
    "These are used to tidy up the queries and make them easier to read, because they can get very long.  \n",
    "Noy we use as example a `pets` table with the `Name`, `Animal` and `Years_old` columns.\n",
    "\n",
    "### AS\n",
    "We already saw this is for renaming the columns generated by the queries.  \n",
    "`query = \"\"\"\n",
    "        SELECT Animal, COUNT(ID) AS Number \n",
    "        FROM 'bigquery-public-data.pet_records.pets'\n",
    "        GROUP BY Animal\n",
    "        \"\"\"`\n",
    "        \n",
    "### WITH ... AS  \n",
    "**AS** can be combined with **WITH** in a 'common table expression' (**CTE**). This is a temporary table that one returns within the query. CTEs are helpful for splitting the queries into readable chunks, and one can write queries against them. \n",
    "\n",
    "`query = \"\"\"\n",
    "         WITH Seniors AS\n",
    "         (\n",
    "             SELECT ID, Name\n",
    "             FROM 'bigquery-public-data.pet_records.pets'\n",
    "             WHERE Years_old > 5\n",
    "         )\n",
    "         SELECT ID\n",
    "         FROM Seniors\n",
    "         \"\"\"`\n",
    "         \n",
    "CTEs only exist ***inside the query** they are created and cannot be referenced in later queries. So the query using CTE can be broken in: (1) first, we create the CTE, and then (2) we write a query that uses the CTE. \n",
    "\n",
    "\n",
    "Example: How many Bitcoin transactions are made per month?  \n",
    "We'll use a CTE for that. We'll investigate the `transactions` table. "
   ]
  },
  {
   "cell_type": "code",
   "execution_count": 120,
   "metadata": {},
   "outputs": [
    {
     "name": "stdin",
     "output_type": "stream",
     "text": [
      "Once deleted, variables cannot be recovered. Proceed (y/[n])?  n\n"
     ]
    },
    {
     "name": "stdout",
     "output_type": "stream",
     "text": [
      "Nothing done.\n"
     ]
    }
   ],
   "source": [
    "%reset\n",
    "from google.cloud import bigquery\n",
    "\n",
    "# Create 'client' object\n",
    "client = bigquery.Client()\n",
    "\n",
    "# Construct a reference to the 'crypto_bitcoin' dataset\n",
    "dataset_ref = client.dataset('crypto_bitcoin', project='bigquery-public-data')\n",
    "\n",
    "# API request - fetch the dataset\n",
    "dataset = client.get_dataset(dataset_ref)\n",
    "\n",
    "# Construct a reference to the 'transactions' table\n",
    "table_ref = dataset_ref.table('transactions')\n",
    "\n",
    "# API request - fetch the table\n",
    "table = client.get_table(table_ref)\n",
    "\n",
    "# Preview the first five lines of the 'transactions' table\n",
    "###---this next line gives an error in the conversion to pandas DataFrame---### \n",
    "#client.list_rows(table, max_results=5).to_dataframe()"
   ]
  },
  {
   "cell_type": "markdown",
   "metadata": {},
   "source": [
    "In **conclusion**, CTEs help cleaning the code and increasing efficiency when selecting data as it is faster than doing it in Pandas. "
   ]
  },
  {
   "cell_type": "markdown",
   "metadata": {},
   "source": [
    "### Sample query from exercises: \n",
    "    \n",
    "`speeds_query = \"\"\"\n",
    "               WITH RelevantRides AS\n",
    "               (\n",
    "                   SELECT EXTRACT(HOUR FROM trip_start_timestamp) AS hour_of_day, \n",
    "                          trip_miles, trip_seconds\n",
    "                   FROM 'bigquery-public-data.chicago_taxi_trips.taxi_trips'\n",
    "                   WHERE trip_start_timestamp > '2017-01-01' AND\n",
    "                         trip_start_timestamp < '2017-07-01' AND\n",
    "                         trip_seconds > 0 AND \n",
    "                         trip_miles > 0\n",
    "               )\n",
    "               SELECT hour_of_day, \n",
    "                      COUNT(1) AS num_trips, \n",
    "                      3600*SUM(trip_miles)/SUM(trip_seconds) AS avg_mph\n",
    "               FROM RelevantRides\n",
    "               GROUP BY hour_of_day\n",
    "               ORDER BY hour_of_day\n",
    "               \"\"\"\n",
    "` "
   ]
  },
  {
   "cell_type": "markdown",
   "metadata": {},
   "source": [
    "---\n",
    "## Joining Data\n",
    "\n",
    "Useful when the data needed is spread across multiple tables. It's very important for the SQL workflow. \n",
    "\n",
    "### JOIN  \n",
    "It used when you want to join tables column-wise, even when they are not ordered in the same way, but you can match a column in common. This common column will do the sorting out. \n",
    "\n",
    "`query = \"\"\"\n",
    "         SELECT p.Name AS Pet_Name, o.Name AS Owner_name\n",
    "         FROM 'bigquery-public-data.pet_records.pets' AS p\n",
    "         INNER JOIN 'bigquery-public-data.pet_records.owners' AS o\n",
    "             ON p.ID = o.Pet_ID\n",
    "         \"\"\"\n",
    "         ` \n",
    "         \n",
    "Here we combine information from both tables by matching rows where the `ID` column in the `pet` table matches the `Pet_ID` column in the `owners` table.  \n",
    "In the query, **ON** determines which column in each table to use to combine the tables. Since they have the same name in both columns, we have to clarify which one to use. We use `p.ID` and `o.ID` for that.  \n",
    "\n",
    "    In general, this is a good practice. To specify which table each of the columns come from.  \n",
    "    \n",
    "There are many other types of **JOIN**, this one, the **INNER JOIN**, will only show in the final table the values that appear in both tables that are been used. \n",
    "\n",
    "Here is another query that looks up the githu repositories to count how many files use the different types of software legal licence. \n",
    "\n",
    "`query = \"\"\"\n",
    "        SELECT L.license, COUNT(1) AS number_of_files\n",
    "        FROM 'bigquery-public-data.github_repos.sample_files' AS sf\n",
    "        INNER JOIN 'bigquery-public-data.github_repos.licenses' AS L \n",
    "            ON sf.repo_name = L.repo_name\n",
    "        GROUP BY L.license\n",
    "        ORDER BY number_of_files DESC\n",
    "        \"\"\"` \n",
    "        \n",
    "Again, we do an **INNER JOIN** to get only the values present in both tables. And we join them at the `repo_name` column of both tables, specified in the `ON` instruction. \n",
    "\n",
    "---\n",
    "## LIKE  \n",
    "One can use **LIKE** instructions together with **WHERE** to restrict even more the results to rows with certain text.  \n",
    "\n",
    "`query = \"\"\"\n",
    "        SELECT *\n",
    "        FROM 'bigquery-public-data.pet_records.pets'\n",
    "        WHERE Name LIKE 'Ripley'\n",
    "        \"\"\"` \n",
    "        \n",
    "Similar to *Regular Expressions* characters, you can use `%` as a 'wildcard' for any number of characters, so the same as the previous query can be written as:\n",
    "\n",
    "`query = \"\"\"\n",
    "        SELECT *\n",
    "        FROM 'bigquery-public-data.pet_records.pets'\n",
    "        WHERE Name LIKE '%ipl%'\n",
    "        \"\"\"`\n",
    "\n"
   ]
  }
 ],
 "metadata": {
  "kernelspec": {
   "display_name": "Python 3",
   "language": "python",
   "name": "python3"
  },
  "language_info": {
   "codemirror_mode": {
    "name": "ipython",
    "version": 3
   },
   "file_extension": ".py",
   "mimetype": "text/x-python",
   "name": "python",
   "nbconvert_exporter": "python",
   "pygments_lexer": "ipython3",
   "version": "3.6.10"
  }
 },
 "nbformat": 4,
 "nbformat_minor": 4
}
